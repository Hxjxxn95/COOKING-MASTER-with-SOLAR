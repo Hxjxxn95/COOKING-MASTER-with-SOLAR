{
 "cells": [
  {
   "cell_type": "code",
   "execution_count": 2,
   "metadata": {},
   "outputs": [
    {
     "name": "stdout",
     "output_type": "stream",
     "text": [
      "Defaulting to user installation because normal site-packages is not writeable\n",
      "Requirement already satisfied: recipe_scrapers in /Users/hojoonkim/Library/Python/3.9/lib/python/site-packages (14.55.0)\n",
      "Requirement already satisfied: beautifulsoup4>=4.10.0 in /Users/hojoonkim/Library/Python/3.9/lib/python/site-packages (from recipe_scrapers) (4.12.2)\n",
      "Requirement already satisfied: extruct>=0.8.0 in /Users/hojoonkim/Library/Python/3.9/lib/python/site-packages (from recipe_scrapers) (0.16.0)\n",
      "Requirement already satisfied: isodate>=0.6.1 in /Users/hojoonkim/Library/Python/3.9/lib/python/site-packages (from recipe_scrapers) (0.6.1)\n",
      "Requirement already satisfied: requests>=2.19.1 in /Users/hojoonkim/Library/Python/3.9/lib/python/site-packages (from recipe_scrapers) (2.31.0)\n",
      "Requirement already satisfied: soupsieve>1.2 in /Users/hojoonkim/Library/Python/3.9/lib/python/site-packages (from beautifulsoup4>=4.10.0->recipe_scrapers) (2.4.1)\n",
      "Requirement already satisfied: lxml in /Users/hojoonkim/Library/Python/3.9/lib/python/site-packages (from extruct>=0.8.0->recipe_scrapers) (5.1.0)\n",
      "Requirement already satisfied: pyrdfa3 in /Users/hojoonkim/Library/Python/3.9/lib/python/site-packages (from extruct>=0.8.0->recipe_scrapers) (3.6.2)\n",
      "Requirement already satisfied: mf2py in /Users/hojoonkim/Library/Python/3.9/lib/python/site-packages (from extruct>=0.8.0->recipe_scrapers) (2.0.1)\n",
      "Requirement already satisfied: w3lib in /Users/hojoonkim/Library/Python/3.9/lib/python/site-packages (from extruct>=0.8.0->recipe_scrapers) (2.1.2)\n",
      "Requirement already satisfied: html-text>=0.5.1 in /Users/hojoonkim/Library/Python/3.9/lib/python/site-packages (from extruct>=0.8.0->recipe_scrapers) (0.6.0)\n",
      "Requirement already satisfied: six in /Applications/Xcode.app/Contents/Developer/Library/Frameworks/Python3.framework/Versions/3.9/lib/python3.9/site-packages (from extruct>=0.8.0->recipe_scrapers) (1.15.0)\n",
      "Requirement already satisfied: jstyleson in /Users/hojoonkim/Library/Python/3.9/lib/python/site-packages (from extruct>=0.8.0->recipe_scrapers) (0.0.2)\n",
      "Requirement already satisfied: rdflib>=6.0.0 in /Users/hojoonkim/Library/Python/3.9/lib/python/site-packages (from extruct>=0.8.0->recipe_scrapers) (7.0.0)\n",
      "Requirement already satisfied: charset-normalizer<4,>=2 in /Users/hojoonkim/Library/Python/3.9/lib/python/site-packages (from requests>=2.19.1->recipe_scrapers) (3.2.0)\n",
      "Requirement already satisfied: idna<4,>=2.5 in /Users/hojoonkim/Library/Python/3.9/lib/python/site-packages (from requests>=2.19.1->recipe_scrapers) (2.10)\n",
      "Requirement already satisfied: urllib3<3,>=1.21.1 in /Users/hojoonkim/Library/Python/3.9/lib/python/site-packages (from requests>=2.19.1->recipe_scrapers) (2.0.3)\n",
      "Requirement already satisfied: certifi>=2017.4.17 in /Users/hojoonkim/Library/Python/3.9/lib/python/site-packages (from requests>=2.19.1->recipe_scrapers) (2023.7.22)\n",
      "Requirement already satisfied: pyparsing<4,>=2.1.0 in /Users/hojoonkim/Library/Python/3.9/lib/python/site-packages (from rdflib>=6.0.0->extruct>=0.8.0->recipe_scrapers) (3.1.1)\n",
      "Requirement already satisfied: html5lib<2.0,>=1.1 in /Users/hojoonkim/Library/Python/3.9/lib/python/site-packages (from mf2py->extruct>=0.8.0->recipe_scrapers) (1.1)\n",
      "Requirement already satisfied: webencodings in /Users/hojoonkim/Library/Python/3.9/lib/python/site-packages (from html5lib<2.0,>=1.1->mf2py->extruct>=0.8.0->recipe_scrapers) (0.5.1)\n",
      "\u001b[33mWARNING: lxml 5.1.0 does not provide the extra 'html-clean'\u001b[0m\u001b[33m\n",
      "\u001b[0mDefaulting to user installation because normal site-packages is not writeable\n",
      "Requirement already satisfied: tqdm in /Users/hojoonkim/Library/Python/3.9/lib/python/site-packages (4.66.1)\n"
     ]
    }
   ],
   "source": [
    "# Because of compatibility issues, I ran it on 3.9.6.\n",
    "! pip install recipe_scrapers\n",
    "! pip install tqdm"
   ]
  },
  {
   "cell_type": "code",
   "execution_count": 5,
   "metadata": {},
   "outputs": [
    {
     "name": "stderr",
     "output_type": "stream",
     "text": [
      "/var/folders/9s/n3d4svqd18b38mxshszssh8h0000gn/T/ipykernel_31371/742327905.py:9: FutureWarning: The frame.append method is deprecated and will be removed from pandas in a future version. Use pandas.concat instead.\n",
      "  df_meals = df_meals.append(df_meal.head(200), ignore_index=True)\n",
      "/var/folders/9s/n3d4svqd18b38mxshszssh8h0000gn/T/ipykernel_31371/742327905.py:9: FutureWarning: The frame.append method is deprecated and will be removed from pandas in a future version. Use pandas.concat instead.\n",
      "  df_meals = df_meals.append(df_meal.head(200), ignore_index=True)\n",
      "/var/folders/9s/n3d4svqd18b38mxshszssh8h0000gn/T/ipykernel_31371/742327905.py:9: FutureWarning: The frame.append method is deprecated and will be removed from pandas in a future version. Use pandas.concat instead.\n",
      "  df_meals = df_meals.append(df_meal.head(200), ignore_index=True)\n",
      "/var/folders/9s/n3d4svqd18b38mxshszssh8h0000gn/T/ipykernel_31371/742327905.py:9: FutureWarning: The frame.append method is deprecated and will be removed from pandas in a future version. Use pandas.concat instead.\n",
      "  df_meals = df_meals.append(df_meal.head(200), ignore_index=True)\n",
      "/var/folders/9s/n3d4svqd18b38mxshszssh8h0000gn/T/ipykernel_31371/742327905.py:9: FutureWarning: The frame.append method is deprecated and will be removed from pandas in a future version. Use pandas.concat instead.\n",
      "  df_meals = df_meals.append(df_meal.head(200), ignore_index=True)\n"
     ]
    }
   ],
   "source": [
    "from urllib.request import urlopen\n",
    "# import pandas as pd\n",
    "from bs4 import BeautifulSoup\n",
    "import re\n",
    "import pickle\n",
    "import pandas as pd\n",
    "# load using pickle\n",
    "# urlList = pickle.load(open(\"urlList.p\", \"rb\"))\n",
    "\n",
    "# create empty list for URLs (unless you loaded previous URLs)\n",
    "url_df = pd.read_csv(\"all_recipes/url.csv\")\n",
    "url_list = url_df['url'].tolist()\n",
    "found_url = []\n",
    "# loop through all 2827 pages\n",
    "for url in tqdm(url_list):\n",
    "    \n",
    "    #Query the website and return the html to the variable 'page'\n",
    "    page = urlopen(url)\n",
    "    soup = BeautifulSoup(page, \"lxml\")\n",
    "    \n",
    "    elements = soup.find_all(class_=\"comp mntl-card-list-items mntl-document-card mntl-card card card--no-image\")\n",
    "    found_url.extend([element.get('href') for element in elements])\n",
    "    \n",
    "found_url_df = pd.DataFrame(found_url, columns=['url'])\n",
    "found_url_df.to_csv(\"all_recipes/found_url.csv\", index=False)"
   ]
  },
  {
   "cell_type": "code",
   "execution_count": 38,
   "metadata": {},
   "outputs": [
    {
     "data": {
      "application/vnd.jupyter.widget-view+json": {
       "model_id": "a24f4f3fa4e947eca1bbfc8c8bbb0690",
       "version_major": 2,
       "version_minor": 0
      },
      "text/plain": [
       "  0%|          | 0/205 [00:00<?, ?it/s]"
      ]
     },
     "metadata": {},
     "output_type": "display_data"
    },
    {
     "name": "stdout",
     "output_type": "stream",
     "text": [
      "Error:  https://www.allrecipes.com/recipe/8495583/pan-fried-pork-chops/\n",
      "Error:  https://www.allrecipes.com/summer-dump-dinners-7505784\n",
      "Error:  https://www.allrecipes.com/brownie-mix-recipes-8606900\n",
      "Error:  https://www.allrecipes.com/top-50-recipes-8399740\n",
      "Error:  https://www.allrecipes.com/low-effort-dinners-that-include-meat-7551754\n",
      "Error:  https://www.allrecipes.com/top-recipes-shared-on-instagram-7229214\n",
      "Error:  https://www.allrecipes.com/gallery/30-recipes-to-master-before-30/\n",
      "Error:  https://www.allrecipes.com/gallery/quick-and-easy-lunch-recipes/\n",
      "Error:  https://www.allrecipes.com/gallery/desserts-that-dont-require-a-mixer/\n",
      "Error:  https://www.allrecipes.com/gallery/top-regional-chili-recipes/\n",
      "Error:  https://www.allrecipes.com/gallery/midwestern-potluck-recipes/\n",
      "Error:  https://www.allrecipes.com/recipe/8472782/frito-chicken-casserole/\n",
      "Error:  https://www.allrecipes.com/recipe/215231/empanadas-beef-turnovers/\n",
      "Error:  https://www.allrecipes.com/recipe/151593/campbells-tuna-noodle-casserole/\n",
      "Error:  https://www.allrecipes.com/best-ever-cuban-sandwich-8631469\n",
      "Error:  https://www.allrecipes.com/gallery/the-best-sheet-pan-chicken-dinners/\n",
      "Error:  https://www.allrecipes.com/gallery/healthy-sheet-pan-recipes-for-winter/\n",
      "Error:  https://www.allrecipes.com/gallery/sheet-pan-shrimp-dinners/\n",
      "Error:  https://www.allrecipes.com/gallery/super-easy-sheet-pan-suppers/\n",
      "Error:  https://www.allrecipes.com/gallery/sheet-pan-salmon-recipes/\n",
      "Error:  https://www.allrecipes.com/gallery/vegetarian-sheet-pan-dinners/\n",
      "Error:  https://www.allrecipes.com/most-saved-chicken-dinner-recipes-8609417\n",
      "Error:  https://www.allrecipes.com/6-ingredient-meals-chickpeas-7197696\n",
      "Error:  https://www.allrecipes.com/recipe/215231/empanadas-beef-turnovers/\n",
      "Error:  https://www.allrecipes.com/9x13-breakfast-casseroles-8412350\n",
      "Error:  https://www.allrecipes.com/article/make-ahead-smoothies-customized-smoothies-family-fun/\n",
      "Error:  https://www.allrecipes.com/recipe/85839/out-of-this-world-turkey-brine/\n",
      "Error:  https://www.allrecipes.com/recipe/19963/fajita-marinade-i/\n",
      "Error:  https://www.allrecipes.com/article/keto-dinner-ideas/\n",
      "Error:  https://www.allrecipes.com/copycat-charleston-cheese-dip-8639015\n",
      "Error:  https://www.allrecipes.com/most-saved-appetizers-of-all-time-8625395\n",
      "Error:  https://www.allrecipes.com/christmas-tree-charcuterie-board-recipe-8423968\n",
      "Error:  https://www.allrecipes.com/recipe/129820/apple-spinach-salad/\n",
      "Error:  https://www.allrecipes.com/best-trending-retro-salad-recipes-8416492\n",
      "Error:  https://www.allrecipes.com/bang-bang-potatoes-recipe-8551629\n",
      "Error:  https://www.allrecipes.com/creamy-gnocchi-with-vegetables-recipe-7970546\n",
      "Error:  https://www.allrecipes.com/recipe/8536673/classic-glazed-doughnuts/\n",
      "Error:  https://www.allrecipes.com/aperol-sour-recipe-8405347\n",
      "Error:  https://www.allrecipes.com/salted-caramel-apple-shots-recipe-8364926\n",
      "Error:  https://www.allrecipes.com/harissa-pomegranate-mocktail-recipe-7567981\n",
      "Error:  https://www.allrecipes.com/stone-cold-stinger-recipe-7487435\n",
      "Error:  https://www.allrecipes.com/article/booze-history-quiz/\n",
      "Error:  https://www.allrecipes.com/celebrity-desserts-8640212\n",
      "Error:  https://www.allrecipes.com/copycat-cosmic-brownies-recipe-8551641\n",
      "Error:  https://www.allrecipes.com/what-is-birria-8598668\n",
      "Error:  https://www.allrecipes.com/campfire-queso-recipe-7567853\n",
      "Error:  https://www.allrecipes.com/how-to-make-the-best-conchas-7371151\n",
      "Error:  https://www.allrecipes.com/what-is-spumoni-7642847\n",
      "Error:  https://www.allrecipes.com/recipe/8472789/gnocchi-with-pomodoro-sauce/\n",
      "Error:  https://www.allrecipes.com/gallery/taiwanese-recipes/\n",
      "Error:  https://www.allrecipes.com/gallery/comfort-food-german-recipes/\n",
      "Error:  https://www.allrecipes.com/gallery/omas-german-recipes/\n",
      "Error:  https://www.allrecipes.com/recipe/140472/gluehwein-german-mulled-wine/\n",
      "Error:  https://www.allrecipes.com/gallery/german-christmas-dinner-menu/\n",
      "Error:  https://www.allrecipes.com/article/what-is-mountain-tea-sideritis/\n",
      "Error:  https://www.allrecipes.com/article/what-is-souvlaki/\n",
      "Error:  https://www.allrecipes.com/article/a-foolproof-way-to-prevent-dry-or-soggy-rice/\n",
      "Error:  https://www.allrecipes.com/mirin-substitute-7487040\n",
      "Error:  https://www.allrecipes.com/what-is-nori-7481320\n",
      "Error:  https://www.allrecipes.com/recipe/8536667/homemade-sushi-rolls/\n",
      "Error:  https://www.allrecipes.com/gallery/udon-noodle-recipes/\n",
      "Error:  https://www.allrecipes.com/gallery/best-recipes-with-miso-paste/\n",
      "Error:  https://www.allrecipes.com/gallery/best-panko-recipes/\n",
      "Error:  https://www.allrecipes.com/rotisserie-chicken-pasta-recipes-8431149\n",
      "Error:  https://www.allrecipes.com/recipe/215231/empanadas-beef-turnovers/\n",
      "Error:  https://www.allrecipes.com/best-ever-cuban-sandwich-8631469\n",
      "Error:  https://www.allrecipes.com/internal-temperature-for-pork-chops-7494983\n",
      "Error:  https://www.allrecipes.com/internal-temperature-for-pork-chops-7494983\n",
      "Error:  https://www.allrecipes.com/difference-between-fresh-frozen-canned-seafood-7377818\n",
      "Error:  https://www.allrecipes.com/hook-line-freezer-7377793\n",
      "Error:  https://www.allrecipes.com/3-ingredient-spinach-artichoke-pasta-8627480\n",
      "Error:  https://www.allrecipes.com/weeknight-pasta-recipes-8559899\n",
      "Error:  https://www.allrecipes.com/italian-pasta-recipes-8420877\n",
      "Error:  https://www.allrecipes.com/creamy-gnocchi-with-vegetables-recipe-7970546\n",
      "Error:  https://www.allrecipes.com/7-pasta-recipes-for-every-day-of-the-week-8643734\n",
      "Error:  https://www.allrecipes.com/cheesy-pasta-recipes-8607791\n",
      "Error:  https://www.allrecipes.com/rotisserie-chicken-pasta-recipes-8431149\n",
      "Error:  https://www.allrecipes.com/what-is-mantecare-7507934\n"
     ]
    }
   ],
   "source": [
    "import pandas as pd\n",
    "from recipe_scrapers import scrape_me\n",
    "from tqdm.notebook import tqdm\n",
    "\n",
    "\n",
    "\n",
    "url_df = pd.read_csv('all_recipes/found_url.csv')\n",
    "url_list = url_df['url'].tolist()\n",
    "\n",
    "Receipes = []\n",
    "df_m = pd.DataFrame(columns=[\"title\", \"total_time\", \"yields\", \"ingredients\", \"instructions\", \"calories\", \"nutrients\" , \"meal type\", \"category\"])\n",
    "\n",
    "for url in tqdm(url_list):\n",
    "  recipe_inst = scrape_me(url)\n",
    "  recipe_json = recipe_inst.to_json()\n",
    "  try:  # Some recipes do not have neutrients and throw error\n",
    "    df_m = ({\n",
    "      \"title\": recipe_inst.title(),\n",
    "      \"total_time\":  recipe_inst.total_time(),\n",
    "      \"yields\": recipe_inst.yields(),\n",
    "      \"ingredients\": recipe_inst.ingredients(),\n",
    "      \"instructions\": recipe_inst.instructions(),\n",
    "      \"calories\": recipe_json['nutrients']['calories'],\n",
    "      \"nutrients\": recipe_inst.nutrients(),\n",
    "      \"category\": recipe_json['category']\n",
    "    })\n",
    "    df_m = pd.DataFrame([df_m])\n",
    "    # Text file로 저장\n",
    "    with open('recipe.txt', 'a') as f:\n",
    "        f.write(('|'.join(df_m.astype(str).values[0])).replace('\\n', ''))\n",
    "        f.write(\"\\n\")\n",
    "    url_df.drop(url_df[url_df['url'] == url].index, inplace=True)\n",
    "    url_df.to_csv(\"all_recipes/found_url.csv\", index=False)\n",
    "  except:\n",
    "    print(\"Error: \", url)\n",
    "    continue\n",
    "\n"
   ]
  },
  {
   "cell_type": "code",
   "execution_count": null,
   "metadata": {},
   "outputs": [],
   "source": []
  }
 ],
 "metadata": {
  "kernelspec": {
   "display_name": "ollama",
   "language": "python",
   "name": "python3"
  },
  "language_info": {
   "codemirror_mode": {
    "name": "ipython",
    "version": 3
   },
   "file_extension": ".py",
   "mimetype": "text/x-python",
   "name": "python",
   "nbconvert_exporter": "python",
   "pygments_lexer": "ipython3",
   "version": "3.9.6"
  }
 },
 "nbformat": 4,
 "nbformat_minor": 2
}
